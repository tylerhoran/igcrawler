{
 "cells": [
  {
   "cell_type": "code",
   "execution_count": 1,
   "id": "9995d4fc",
   "metadata": {},
   "outputs": [],
   "source": [
    "import numpy as np"
   ]
  },
  {
   "cell_type": "code",
   "execution_count": 2,
   "id": "598c1fad",
   "metadata": {},
   "outputs": [],
   "source": [
    "data_file = \"sponsored_posts.csv\""
   ]
  },
  {
   "cell_type": "code",
   "execution_count": 3,
   "id": "6c9b16fe",
   "metadata": {},
   "outputs": [],
   "source": [
    "data = np.genfromtxt(data_file, names=True, delimiter=\",\", dtype=None)"
   ]
  },
  {
   "cell_type": "code",
   "execution_count": 4,
   "id": "0a461123",
   "metadata": {},
   "outputs": [
    {
     "ename": "ModuleNotFoundError",
     "evalue": "No module named 'pandas'",
     "output_type": "error",
     "traceback": [
      "\u001b[0;31m---------------------------------------------------------------------------\u001b[0m",
      "\u001b[0;31mModuleNotFoundError\u001b[0m                       Traceback (most recent call last)",
      "\u001b[0;32m<ipython-input-4-7dd3504c366f>\u001b[0m in \u001b[0;36m<module>\u001b[0;34m\u001b[0m\n\u001b[0;32m----> 1\u001b[0;31m \u001b[0;32mimport\u001b[0m \u001b[0mpandas\u001b[0m \u001b[0;32mas\u001b[0m \u001b[0mpd\u001b[0m\u001b[0;34m\u001b[0m\u001b[0;34m\u001b[0m\u001b[0m\n\u001b[0m",
      "\u001b[0;31mModuleNotFoundError\u001b[0m: No module named 'pandas'"
     ]
    }
   ],
   "source": [
    "import pandas as pd"
   ]
  },
  {
   "cell_type": "code",
   "execution_count": 5,
   "id": "a4fe30bb",
   "metadata": {},
   "outputs": [
    {
     "ename": "ValueError",
     "evalue": "no field of name supp",
     "output_type": "error",
     "traceback": [
      "\u001b[0;31m---------------------------------------------------------------------------\u001b[0m",
      "\u001b[0;31mValueError\u001b[0m                                Traceback (most recent call last)",
      "\u001b[0;32m<ipython-input-5-641d5342a80a>\u001b[0m in \u001b[0;36m<module>\u001b[0;34m\u001b[0m\n\u001b[1;32m      1\u001b[0m \u001b[0msummary_stats\u001b[0m \u001b[0;34m=\u001b[0m \u001b[0;34m[\u001b[0m\u001b[0;34m]\u001b[0m\u001b[0;34m\u001b[0m\u001b[0;34m\u001b[0m\u001b[0m\n\u001b[0;32m----> 2\u001b[0;31m \u001b[0;32mfor\u001b[0m \u001b[0msupp_lvl\u001b[0m \u001b[0;32min\u001b[0m \u001b[0mnp\u001b[0m\u001b[0;34m.\u001b[0m\u001b[0munique\u001b[0m\u001b[0;34m(\u001b[0m\u001b[0mdata\u001b[0m\u001b[0;34m[\u001b[0m\u001b[0;34m'supp'\u001b[0m\u001b[0;34m]\u001b[0m\u001b[0;34m)\u001b[0m\u001b[0;34m:\u001b[0m\u001b[0;34m\u001b[0m\u001b[0;34m\u001b[0m\u001b[0m\n\u001b[0m\u001b[1;32m      3\u001b[0m \u001b[0;34m\u001b[0m\u001b[0m\n\u001b[1;32m      4\u001b[0m     \u001b[0;32mfor\u001b[0m \u001b[0mdose_lvl\u001b[0m \u001b[0;32min\u001b[0m \u001b[0mnp\u001b[0m\u001b[0;34m.\u001b[0m\u001b[0munique\u001b[0m\u001b[0;34m(\u001b[0m\u001b[0mdata\u001b[0m\u001b[0;34m[\u001b[0m\u001b[0;34m'dose'\u001b[0m\u001b[0;34m]\u001b[0m\u001b[0;34m)\u001b[0m\u001b[0;34m:\u001b[0m\u001b[0;34m\u001b[0m\u001b[0;34m\u001b[0m\u001b[0m\n\u001b[1;32m      5\u001b[0m \u001b[0;34m\u001b[0m\u001b[0m\n",
      "\u001b[0;31mValueError\u001b[0m: no field of name supp"
     ]
    }
   ],
   "source": [
    "summary_stats = []\n",
    "for supp_lvl in np.unique(data['supp']):\n",
    "    \n",
    "    for dose_lvl in np.unique(data['dose']):\n",
    "    \n",
    "        # Subsetting\n",
    "        data_to_sum = data[(data['supp'] == supp_lvl) & (data['dose'] == dose_lvl)]\n",
    "        # Calculating the descriptives\n",
    "        mean = data_to_sum['len'].mean()\n",
    "        sd = data_to_sum['len'].std()\n",
    "        max_supp = data_to_sum['len'].max()\n",
    "        min_supp =  data_to_sum['len'].min()\n",
    "        ps = np.percentile(data_to_sum['len'], [25, 75] )\n",
    "        summary_stats.append((mean, sd, max_supp, min_supp, ps[0], ps[1], supp_lvl, dose_lvl))\n",
    "    "
   ]
  },
  {
   "cell_type": "code",
   "execution_count": 6,
   "id": "dc8d13ea",
   "metadata": {},
   "outputs": [
    {
     "data": {
      "text/plain": [
       "array([(  179037181,  1634, 81, 5, 2297742899655135745),\n",
       "       (25783801241,    95,  3, 1, 2297738413553416176),\n",
       "       (32030939764,   526,  8, 0, 2297715524791715348), ...,\n",
       "       ( 1579955020,  5586, 35, 1, 2299558918010234969),\n",
       "       (   34930634, 77410,  2, 0, 2299569591382087760),\n",
       "       (27736053144,  4237,  0, 1, 2299568197396142499)],\n",
       "      dtype=[('user_id', '<i8'), ('user_followers', '<i8'), ('likes', '<i8'), ('comments', '<i8'), ('id', '<i8')])"
      ]
     },
     "execution_count": 6,
     "metadata": {},
     "output_type": "execute_result"
    }
   ],
   "source": [
    "data\n"
   ]
  },
  {
   "cell_type": "code",
   "execution_count": 7,
   "id": "58c3d456",
   "metadata": {},
   "outputs": [
    {
     "data": {
      "text/plain": [
       "array([  179037181, 25783801241, 32030939764, ...,  1579955020,\n",
       "          34930634, 27736053144])"
      ]
     },
     "execution_count": 7,
     "metadata": {},
     "output_type": "execute_result"
    }
   ],
   "source": [
    "data['user_id']"
   ]
  },
  {
   "cell_type": "code",
   "execution_count": 13,
   "id": "18006609",
   "metadata": {},
   "outputs": [
    {
     "data": {
      "text/plain": [
       "50066.645471537806"
      ]
     },
     "execution_count": 13,
     "metadata": {},
     "output_type": "execute_result"
    }
   ],
   "source": [
    "data['user_followers'].mean()"
   ]
  },
  {
   "cell_type": "code",
   "execution_count": 12,
   "id": "23aacd35",
   "metadata": {},
   "outputs": [
    {
     "data": {
      "text/plain": [
       "696052.4995054777"
      ]
     },
     "execution_count": 12,
     "metadata": {},
     "output_type": "execute_result"
    }
   ],
   "source": [
    "data['user_followers'].std()"
   ]
  },
  {
   "cell_type": "code",
   "execution_count": 14,
   "id": "d4834d63",
   "metadata": {},
   "outputs": [
    {
     "ename": "AttributeError",
     "evalue": "'numpy.ndarray' object has no attribute 'mode'",
     "output_type": "error",
     "traceback": [
      "\u001b[0;31m---------------------------------------------------------------------------\u001b[0m",
      "\u001b[0;31mAttributeError\u001b[0m                            Traceback (most recent call last)",
      "\u001b[0;32m<ipython-input-14-65dc335dcd9b>\u001b[0m in \u001b[0;36m<module>\u001b[0;34m\u001b[0m\n\u001b[0;32m----> 1\u001b[0;31m \u001b[0mdata\u001b[0m\u001b[0;34m[\u001b[0m\u001b[0;34m'user_followers'\u001b[0m\u001b[0;34m]\u001b[0m\u001b[0;34m.\u001b[0m\u001b[0mmode\u001b[0m\u001b[0;34m(\u001b[0m\u001b[0;34m)\u001b[0m\u001b[0;34m\u001b[0m\u001b[0;34m\u001b[0m\u001b[0m\n\u001b[0m",
      "\u001b[0;31mAttributeError\u001b[0m: 'numpy.ndarray' object has no attribute 'mode'"
     ]
    }
   ],
   "source": [
    "data['user_followers'].mode()"
   ]
  },
  {
   "cell_type": "code",
   "execution_count": null,
   "id": "9acad905",
   "metadata": {},
   "outputs": [],
   "source": []
  }
 ],
 "metadata": {
  "kernelspec": {
   "display_name": "Python 3",
   "language": "python",
   "name": "python3"
  },
  "language_info": {
   "codemirror_mode": {
    "name": "ipython",
    "version": 3
   },
   "file_extension": ".py",
   "mimetype": "text/x-python",
   "name": "python",
   "nbconvert_exporter": "python",
   "pygments_lexer": "ipython3",
   "version": "3.9.5"
  }
 },
 "nbformat": 4,
 "nbformat_minor": 5
}
